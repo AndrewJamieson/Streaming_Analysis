{
 "cells": [
  {
   "cell_type": "markdown",
   "metadata": {},
   "source": [
    "Discovery + launched in January 2021. So, time to revise my estimates"
   ]
  },
  {
   "cell_type": "code",
   "execution_count": 1,
   "metadata": {},
   "outputs": [],
   "source": [
    "import pickle\n",
    "import json\n",
    "import pandas as pd\n",
    "import numpy as np"
   ]
  },
  {
   "cell_type": "code",
   "execution_count": 6,
   "metadata": {},
   "outputs": [],
   "source": [
    "# opening pickle file\n"
   ]
  },
  {
   "cell_type": "markdown",
   "metadata": {},
   "source": [
    "#### TV Id List"
   ]
  },
  {
   "cell_type": "code",
   "execution_count": 7,
   "metadata": {},
   "outputs": [],
   "source": [
    "tv_ids=[]"
   ]
  },
  {
   "cell_type": "code",
   "execution_count": 8,
   "metadata": {},
   "outputs": [],
   "source": [
    "for i in tv_data_all:\n",
    "    for key in i:\n",
    "        if key == 'id':\n",
    "            id = i['id']  \n",
    "    tv_ids.append(id)"
   ]
  },
  {
   "cell_type": "markdown",
   "metadata": {},
   "source": [
    "#### Finder Function"
   ]
  },
  {
   "cell_type": "code",
   "execution_count": 10,
   "metadata": {},
   "outputs": [],
   "source": [
    "def finder_fn (col, list):\n",
    "    for i in tv_data_all:\n",
    "        for key in i:\n",
    "            if key == col:\n",
    "                item = i[col]  \n",
    "        list.append(item)\n",
    "    return list"
   ]
  },
  {
   "cell_type": "code",
   "execution_count": 11,
   "metadata": {},
   "outputs": [
    {
     "data": {
      "text/plain": [
       "19235"
      ]
     },
     "execution_count": 11,
     "metadata": {},
     "output_type": "execute_result"
    }
   ],
   "source": [
    "# Name\n",
    "name_list =[]\n",
    "finder_fn('name', name_list)\n",
    "len(name_list)"
   ]
  },
  {
   "cell_type": "code",
   "execution_count": 12,
   "metadata": {},
   "outputs": [
    {
     "data": {
      "text/plain": [
       "19235"
      ]
     },
     "execution_count": 12,
     "metadata": {},
     "output_type": "execute_result"
    }
   ],
   "source": [
    "# Run Time\n",
    "run_time =[]\n",
    "finder_fn('episode_run_time', run_time)\n",
    "len(run_time)"
   ]
  },
  {
   "cell_type": "code",
   "execution_count": 13,
   "metadata": {},
   "outputs": [
    {
     "data": {
      "text/plain": [
       "19235"
      ]
     },
     "execution_count": 13,
     "metadata": {},
     "output_type": "execute_result"
    }
   ],
   "source": [
    "# Number of Episodes\n",
    "no_episodes =[]\n",
    "finder_fn('number_of_episodes', no_episodes)\n",
    "len(no_episodes)"
   ]
  },
  {
   "cell_type": "code",
   "execution_count": 14,
   "metadata": {},
   "outputs": [
    {
     "data": {
      "text/plain": [
       "19235"
      ]
     },
     "execution_count": 14,
     "metadata": {},
     "output_type": "execute_result"
    }
   ],
   "source": [
    "# Number of Seasons\n",
    "no_ssn =[]\n",
    "finder_fn('number_of_seasons', no_ssn)\n",
    "len(no_ssn)"
   ]
  },
  {
   "cell_type": "markdown",
   "metadata": {},
   "source": [
    "#### Networks"
   ]
  },
  {
   "cell_type": "code",
   "execution_count": 15,
   "metadata": {},
   "outputs": [],
   "source": [
    "# Latest Network (one only)\n",
    "network =[]\n",
    "for i in tv_data_all:\n",
    "    try:\n",
    "        for key in i:\n",
    "            if i['networks']:\n",
    "                net = i['networks'][0]['name']\n",
    "    except:\n",
    "        net = ['None']\n",
    "    network.append(net)\n"
   ]
  },
  {
   "cell_type": "code",
   "execution_count": 16,
   "metadata": {},
   "outputs": [
    {
     "data": {
      "text/plain": [
       "19235"
      ]
     },
     "execution_count": 16,
     "metadata": {},
     "output_type": "execute_result"
    }
   ],
   "source": [
    "len(network)"
   ]
  },
  {
   "cell_type": "code",
   "execution_count": 17,
   "metadata": {},
   "outputs": [
    {
     "data": {
      "text/plain": [
       "[{'name': 'The CW',\n",
       "  'id': 71,\n",
       "  'logo_path': '/ge9hzeaU7nMtQ4PjkFlc68dGAJ9.png',\n",
       "  'origin_country': 'US'}]"
      ]
     },
     "execution_count": 17,
     "metadata": {},
     "output_type": "execute_result"
    }
   ],
   "source": [
    "tv_data_all[2]['networks']"
   ]
  },
  {
   "cell_type": "markdown",
   "metadata": {},
   "source": [
    "#### Network 2"
   ]
  },
  {
   "cell_type": "code",
   "execution_count": 18,
   "metadata": {},
   "outputs": [],
   "source": [
    "# Latest Network (one only)\n",
    "network2 =[]\n",
    "for i in tv_data_all:\n",
    "    try:\n",
    "        for key in i:\n",
    "            if i['networks']:\n",
    "                net = i['networks'][1]['name']\n",
    "    except:\n",
    "        net = ['None']\n",
    "    network2.append(net)"
   ]
  },
  {
   "cell_type": "code",
   "execution_count": 19,
   "metadata": {},
   "outputs": [
    {
     "data": {
      "text/plain": [
       "19235"
      ]
     },
     "execution_count": 19,
     "metadata": {},
     "output_type": "execute_result"
    }
   ],
   "source": [
    "len(network2)"
   ]
  },
  {
   "cell_type": "markdown",
   "metadata": {},
   "source": [
    "#### Providers"
   ]
  },
  {
   "cell_type": "code",
   "execution_count": 20,
   "metadata": {},
   "outputs": [
    {
     "data": {
      "text/plain": [
       "[{'display_priority': 0,\n",
       "  'logo_path': '/9A1JSVmSxsyaBK4SUFsYVqbAYfW.jpg',\n",
       "  'provider_id': 8,\n",
       "  'provider_name': 'Netflix'},\n",
       " {'display_priority': 3,\n",
       "  'logo_path': '/2wPRZit7b8u79GsqTdygmGL6kBW.jpg',\n",
       "  'provider_id': 257,\n",
       "  'provider_name': 'fuboTV'},\n",
       " {'display_priority': 41,\n",
       "  'logo_path': '/qZdEeINwQotbr1Rq15dL5G2BaAh.jpg',\n",
       "  'provider_id': 358,\n",
       "  'provider_name': 'DIRECTV'}]"
      ]
     },
     "execution_count": 20,
     "metadata": {},
     "output_type": "execute_result"
    }
   ],
   "source": [
    "# provider example\n",
    "tv_data_all[1]['watch/providers']['results']['US']['flatrate']"
   ]
  },
  {
   "cell_type": "code",
   "execution_count": 21,
   "metadata": {},
   "outputs": [],
   "source": [
    "# provider loop\n",
    "provider = []\n",
    "prv = ''\n",
    "for item in tv_data_all:\n",
    "    prov = []\n",
    "    try:\n",
    "        if item['watch/providers']['results']['US']:\n",
    "            for p in item['watch/providers']['results']['US']['flatrate']:\n",
    "                for key in p:\n",
    "                    if key == 'provider_name':\n",
    "                        prv = p['provider_name']\n",
    "                        prov.append(prv)\n",
    "    except:\n",
    "        prov = ['None']\n",
    "\n",
    "    provider.append(prov)"
   ]
  },
  {
   "cell_type": "code",
   "execution_count": 22,
   "metadata": {
    "scrolled": true
   },
   "outputs": [
    {
     "data": {
      "text/plain": [
       "['Netflix']"
      ]
     },
     "execution_count": 22,
     "metadata": {},
     "output_type": "execute_result"
    }
   ],
   "source": [
    "provider[16]"
   ]
  },
  {
   "cell_type": "code",
   "execution_count": null,
   "metadata": {},
   "outputs": [],
   "source": []
  },
  {
   "cell_type": "code",
   "execution_count": null,
   "metadata": {},
   "outputs": [],
   "source": []
  },
  {
   "cell_type": "code",
   "execution_count": null,
   "metadata": {},
   "outputs": [],
   "source": []
  }
 ],
 "metadata": {
  "kernelspec": {
   "display_name": "Python 3",
   "language": "python",
   "name": "python3"
  },
  "language_info": {
   "codemirror_mode": {
    "name": "ipython",
    "version": 3
   },
   "file_extension": ".py",
   "mimetype": "text/x-python",
   "name": "python",
   "nbconvert_exporter": "python",
   "pygments_lexer": "ipython3",
   "version": "3.7.9"
  }
 },
 "nbformat": 4,
 "nbformat_minor": 4
}
