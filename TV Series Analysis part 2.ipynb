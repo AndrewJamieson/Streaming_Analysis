{
 "cells": [
  {
   "cell_type": "markdown",
   "metadata": {},
   "source": [
    "Discovery + launched in January 2021. So, time to revise my estimates"
   ]
  },
  {
   "cell_type": "code",
   "execution_count": 1,
   "metadata": {},
   "outputs": [],
   "source": [
    "import pickle\n",
    "import json\n",
    "import pandas as pd\n",
    "import numpy as np"
   ]
  },
  {
   "cell_type": "code",
   "execution_count": 6,
   "metadata": {},
   "outputs": [],
   "source": [
    "# opening pickle file\n"
   ]
  },
  {
   "cell_type": "markdown",
   "metadata": {},
   "source": [
    "#### TV Id List"
   ]
  },
  {
   "cell_type": "code",
   "execution_count": 7,
   "metadata": {},
   "outputs": [],
   "source": [
    "tv_ids=[]"
   ]
  },
  {
   "cell_type": "code",
   "execution_count": 8,
   "metadata": {},
   "outputs": [],
   "source": [
    "for i in tv_data_all:\n",
    "    for key in i:\n",
    "        if key == 'id':\n",
    "            id = i['id']  \n",
    "    tv_ids.append(id)"
   ]
  },
  {
   "cell_type": "markdown",
   "metadata": {},
   "source": [
    "#### Finder Function"
   ]
  },
  {
   "cell_type": "code",
   "execution_count": 10,
   "metadata": {},
   "outputs": [],
   "source": [
    "def finder_fn (col, list):\n",
    "    for i in tv_data_all:\n",
    "        for key in i:\n",
    "            if key == col:\n",
    "                item = i[col]  \n",
    "        list.append(item)\n",
    "    return list"
   ]
  },
  {
   "cell_type": "code",
   "execution_count": 11,
   "metadata": {},
   "outputs": [
    {
     "data": {
      "text/plain": [
       "19235"
      ]
     },
     "execution_count": 11,
     "metadata": {},
     "output_type": "execute_result"
    }
   ],
   "source": [
    "# Name\n",
    "name_list =[]\n",
    "finder_fn('name', name_list)\n",
    "len(name_list)"
   ]
  },
  {
   "cell_type": "code",
   "execution_count": 12,
   "metadata": {},
   "outputs": [
    {
     "data": {
      "text/plain": [
       "19235"
      ]
     },
     "execution_count": 12,
     "metadata": {},
     "output_type": "execute_result"
    }
   ],
   "source": [
    "# Run Time\n",
    "run_time =[]\n",
    "finder_fn('episode_run_time', run_time)\n",
    "len(run_time)"
   ]
  },
  {
   "cell_type": "code",
   "execution_count": 13,
   "metadata": {},
   "outputs": [
    {
     "data": {
      "text/plain": [
       "19235"
      ]
     },
     "execution_count": 13,
     "metadata": {},
     "output_type": "execute_result"
    }
   ],
   "source": [
    "# Number of Episodes\n",
    "no_episodes =[]\n",
    "finder_fn('number_of_episodes', no_episodes)\n",
    "len(no_episodes)"
   ]
  },
  {
   "cell_type": "code",
   "execution_count": 14,
   "metadata": {},
   "outputs": [
    {
     "data": {
      "text/plain": [
       "19235"
      ]
     },
     "execution_count": 14,
     "metadata": {},
     "output_type": "execute_result"
    }
   ],
   "source": [
    "# Number of Seasons\n",
    "no_ssn =[]\n",
    "finder_fn('number_of_seasons', no_ssn)\n",
    "len(no_ssn)"
   ]
  },
  {
   "cell_type": "markdown",
   "metadata": {},
   "source": [
    "#### Networks"
   ]
  },
  {
   "cell_type": "code",
   "execution_count": 15,
   "metadata": {},
   "outputs": [],
   "source": [
    "# Latest Network (one only)\n",
    "network =[]\n",
    "for i in tv_data_all:\n",
    "    try:\n",
    "        for key in i:\n",
    "            if i['networks']:\n",
    "                net = i['networks'][0]['name']\n",
    "    except:\n",
    "        net = ['None']\n",
    "    network.append(net)\n"
   ]
  },
  {
   "cell_type": "code",
   "execution_count": 16,
   "metadata": {},
   "outputs": [
    {
     "data": {
      "text/plain": [
       "19235"
      ]
     },
     "execution_count": 16,
     "metadata": {},
     "output_type": "execute_result"
    }
   ],
   "source": [
    "len(network)"
   ]
  },
  {
   "cell_type": "code",
   "execution_count": 17,
   "metadata": {},
   "outputs": [
    {
     "data": {
      "text/plain": [
       "[{'name': 'The CW',\n",
       "  'id': 71,\n",
       "  'logo_path': '/ge9hzeaU7nMtQ4PjkFlc68dGAJ9.png',\n",
       "  'origin_country': 'US'}]"
      ]
     },
     "execution_count": 17,
     "metadata": {},
     "output_type": "execute_result"
    }
   ],
   "source": [
    "tv_data_all[2]['networks']"
   ]
  },
  {
   "cell_type": "markdown",
   "metadata": {},
   "source": [
    "#### Network 2"
   ]
  },
  {
   "cell_type": "code",
   "execution_count": 18,
   "metadata": {},
   "outputs": [],
   "source": [
    "# Latest Network (one only)\n",
    "network2 =[]\n",
    "for i in tv_data_all:\n",
    "    try:\n",
    "        for key in i:\n",
    "            if i['networks']:\n",
    "                net = i['networks'][1]['name']\n",
    "    except:\n",
    "        net = ['None']\n",
    "    network2.append(net)"
   ]
  },
  {
   "cell_type": "code",
   "execution_count": 19,
   "metadata": {},
   "outputs": [
    {
     "data": {
      "text/plain": [
       "19235"
      ]
     },
     "execution_count": 19,
     "metadata": {},
     "output_type": "execute_result"
    }
   ],
   "source": [
    "len(network2)"
   ]
  },
  {
   "cell_type": "markdown",
   "metadata": {},
   "source": [
    "#### Providers"
   ]
  },
  {
   "cell_type": "code",
   "execution_count": 20,
   "metadata": {},
   "outputs": [
    {
     "data": {
      "text/plain": [
       "[{'display_priority': 0,\n",
       "  'logo_path': '/9A1JSVmSxsyaBK4SUFsYVqbAYfW.jpg',\n",
       "  'provider_id': 8,\n",
       "  'provider_name': 'Netflix'},\n",
       " {'display_priority': 3,\n",
       "  'logo_path': '/2wPRZit7b8u79GsqTdygmGL6kBW.jpg',\n",
       "  'provider_id': 257,\n",
       "  'provider_name': 'fuboTV'},\n",
       " {'display_priority': 41,\n",
       "  'logo_path': '/qZdEeINwQotbr1Rq15dL5G2BaAh.jpg',\n",
       "  'provider_id': 358,\n",
       "  'provider_name': 'DIRECTV'}]"
      ]
     },
     "execution_count": 20,
     "metadata": {},
     "output_type": "execute_result"
    }
   ],
   "source": [
    "# provider example\n",
    "tv_data_all[1]['watch/providers']['results']['US']['flatrate']"
   ]
  },
  {
   "cell_type": "code",
   "execution_count": 21,
   "metadata": {},
   "outputs": [],
   "source": [
    "# provider loop\n",
    "provider = []\n",
    "prv = ''\n",
    "for item in tv_data_all:\n",
    "    prov = []\n",
    "    try:\n",
    "        if item['watch/providers']['results']['US']:\n",
    "            for p in item['watch/providers']['results']['US']['flatrate']:\n",
    "                for key in p:\n",
    "                    if key == 'provider_name':\n",
    "                        prv = p['provider_name']\n",
    "                        prov.append(prv)\n",
    "    except:\n",
    "        prov = ['None']\n",
    "\n",
    "    provider.append(prov)"
   ]
  },
  {
   "cell_type": "code",
   "execution_count": 22,
   "metadata": {
    "scrolled": true
   },
   "outputs": [
    {
     "data": {
      "text/plain": [
       "['Netflix']"
      ]
     },
     "execution_count": 22,
     "metadata": {},
     "output_type": "execute_result"
    }
   ],
   "source": [
    "provider[16]"
   ]
  },
  {
   "cell_type": "markdown",
   "metadata": {},
   "source": [
    "### Dataframe"
   ]
  },
  {
   "cell_type": "code",
   "execution_count": 23,
   "metadata": {},
   "outputs": [],
   "source": [
    "# Creating a dataframe from the lists\n",
    "TV_df = pd.DataFrame({'id': tv_ids})"
   ]
  },
  {
   "cell_type": "code",
   "execution_count": 24,
   "metadata": {},
   "outputs": [],
   "source": [
    "TV_df['name'] = name_list\n",
    "TV_df['runtime'] = run_time\n",
    "TV_df['episode_count'] = no_episodes\n",
    "TV_df['ssn_count'] = no_ssn\n",
    "TV_df['network'] = network\n",
    "TV_df['network2'] = network2\n",
    "TV_df['provider'] = provider\n"
   ]
  },
  {
   "cell_type": "code",
   "execution_count": 25,
   "metadata": {},
   "outputs": [
    {
     "data": {
      "text/html": [
       "<div>\n",
       "<style scoped>\n",
       "    .dataframe tbody tr th:only-of-type {\n",
       "        vertical-align: middle;\n",
       "    }\n",
       "\n",
       "    .dataframe tbody tr th {\n",
       "        vertical-align: top;\n",
       "    }\n",
       "\n",
       "    .dataframe thead th {\n",
       "        text-align: right;\n",
       "    }\n",
       "</style>\n",
       "<table border=\"1\" class=\"dataframe\">\n",
       "  <thead>\n",
       "    <tr style=\"text-align: right;\">\n",
       "      <th></th>\n",
       "      <th>id</th>\n",
       "      <th>name</th>\n",
       "      <th>runtime</th>\n",
       "      <th>episode_count</th>\n",
       "      <th>ssn_count</th>\n",
       "      <th>network</th>\n",
       "      <th>network2</th>\n",
       "      <th>provider</th>\n",
       "    </tr>\n",
       "  </thead>\n",
       "  <tbody>\n",
       "    <tr>\n",
       "      <th>0</th>\n",
       "      <td>85271</td>\n",
       "      <td>WandaVision</td>\n",
       "      <td>[36, 30]</td>\n",
       "      <td>9.0</td>\n",
       "      <td>1</td>\n",
       "      <td>Disney+</td>\n",
       "      <td>[None]</td>\n",
       "      <td>[Disney Plus]</td>\n",
       "    </tr>\n",
       "    <tr>\n",
       "      <th>1</th>\n",
       "      <td>69050</td>\n",
       "      <td>Riverdale</td>\n",
       "      <td>[45]</td>\n",
       "      <td>83.0</td>\n",
       "      <td>5</td>\n",
       "      <td>The CW</td>\n",
       "      <td>[None]</td>\n",
       "      <td>[Netflix, fuboTV, DIRECTV]</td>\n",
       "    </tr>\n",
       "    <tr>\n",
       "      <th>2</th>\n",
       "      <td>79460</td>\n",
       "      <td>Legacies</td>\n",
       "      <td>[43]</td>\n",
       "      <td>37.0</td>\n",
       "      <td>3</td>\n",
       "      <td>The CW</td>\n",
       "      <td>[None]</td>\n",
       "      <td>[Netflix, DIRECTV]</td>\n",
       "    </tr>\n",
       "    <tr>\n",
       "      <th>3</th>\n",
       "      <td>97175</td>\n",
       "      <td>Fate: The Winx Saga</td>\n",
       "      <td>[47, 53]</td>\n",
       "      <td>6.0</td>\n",
       "      <td>1</td>\n",
       "      <td>Netflix</td>\n",
       "      <td>[None]</td>\n",
       "      <td>[Netflix]</td>\n",
       "    </tr>\n",
       "    <tr>\n",
       "      <th>4</th>\n",
       "      <td>71712</td>\n",
       "      <td>The Good Doctor</td>\n",
       "      <td>[43]</td>\n",
       "      <td>69.0</td>\n",
       "      <td>4</td>\n",
       "      <td>ABC</td>\n",
       "      <td>[None]</td>\n",
       "      <td>[fuboTV, Hulu, DIRECTV, Spectrum On Demand]</td>\n",
       "    </tr>\n",
       "    <tr>\n",
       "      <th>...</th>\n",
       "      <td>...</td>\n",
       "      <td>...</td>\n",
       "      <td>...</td>\n",
       "      <td>...</td>\n",
       "      <td>...</td>\n",
       "      <td>...</td>\n",
       "      <td>...</td>\n",
       "      <td>...</td>\n",
       "    </tr>\n",
       "    <tr>\n",
       "      <th>19230</th>\n",
       "      <td>17760</td>\n",
       "      <td>The Last Place on Earth</td>\n",
       "      <td>[]</td>\n",
       "      <td>7.0</td>\n",
       "      <td>1</td>\n",
       "      <td>ITV</td>\n",
       "      <td>[None]</td>\n",
       "      <td>[None]</td>\n",
       "    </tr>\n",
       "    <tr>\n",
       "      <th>19231</th>\n",
       "      <td>73338</td>\n",
       "      <td>MTV Undressed</td>\n",
       "      <td>[30]</td>\n",
       "      <td>6.0</td>\n",
       "      <td>1</td>\n",
       "      <td>MTV</td>\n",
       "      <td>[None]</td>\n",
       "      <td>[None]</td>\n",
       "    </tr>\n",
       "    <tr>\n",
       "      <th>19232</th>\n",
       "      <td>7918</td>\n",
       "      <td>Ensign O'Toole</td>\n",
       "      <td>[30]</td>\n",
       "      <td>32.0</td>\n",
       "      <td>1</td>\n",
       "      <td>NBC</td>\n",
       "      <td>[None]</td>\n",
       "      <td>[None]</td>\n",
       "    </tr>\n",
       "    <tr>\n",
       "      <th>19233</th>\n",
       "      <td>114044</td>\n",
       "      <td>White Blue</td>\n",
       "      <td>[]</td>\n",
       "      <td>1.0</td>\n",
       "      <td>1</td>\n",
       "      <td>NBC</td>\n",
       "      <td>[None]</td>\n",
       "      <td>[None]</td>\n",
       "    </tr>\n",
       "    <tr>\n",
       "      <th>19234</th>\n",
       "      <td>22119</td>\n",
       "      <td>Heartland</td>\n",
       "      <td>[30]</td>\n",
       "      <td>10.0</td>\n",
       "      <td>1</td>\n",
       "      <td>CBS</td>\n",
       "      <td>[None]</td>\n",
       "      <td>[None]</td>\n",
       "    </tr>\n",
       "  </tbody>\n",
       "</table>\n",
       "<p>19235 rows × 8 columns</p>\n",
       "</div>"
      ],
      "text/plain": [
       "           id                     name   runtime  episode_count  ssn_count  \\\n",
       "0       85271              WandaVision  [36, 30]            9.0          1   \n",
       "1       69050                Riverdale      [45]           83.0          5   \n",
       "2       79460                 Legacies      [43]           37.0          3   \n",
       "3       97175      Fate: The Winx Saga  [47, 53]            6.0          1   \n",
       "4       71712          The Good Doctor      [43]           69.0          4   \n",
       "...       ...                      ...       ...            ...        ...   \n",
       "19230   17760  The Last Place on Earth        []            7.0          1   \n",
       "19231   73338            MTV Undressed      [30]            6.0          1   \n",
       "19232    7918           Ensign O'Toole      [30]           32.0          1   \n",
       "19233  114044               White Blue        []            1.0          1   \n",
       "19234   22119                Heartland      [30]           10.0          1   \n",
       "\n",
       "       network network2                                     provider  \n",
       "0      Disney+   [None]                                [Disney Plus]  \n",
       "1       The CW   [None]                   [Netflix, fuboTV, DIRECTV]  \n",
       "2       The CW   [None]                           [Netflix, DIRECTV]  \n",
       "3      Netflix   [None]                                    [Netflix]  \n",
       "4          ABC   [None]  [fuboTV, Hulu, DIRECTV, Spectrum On Demand]  \n",
       "...        ...      ...                                          ...  \n",
       "19230      ITV   [None]                                       [None]  \n",
       "19231      MTV   [None]                                       [None]  \n",
       "19232      NBC   [None]                                       [None]  \n",
       "19233      NBC   [None]                                       [None]  \n",
       "19234      CBS   [None]                                       [None]  \n",
       "\n",
       "[19235 rows x 8 columns]"
      ]
     },
     "execution_count": 25,
     "metadata": {},
     "output_type": "execute_result"
    }
   ],
   "source": [
    "TV_df"
   ]
  },
  {
   "cell_type": "code",
   "execution_count": null,
   "metadata": {},
   "outputs": [],
   "source": []
  },
  {
   "cell_type": "code",
   "execution_count": null,
   "metadata": {},
   "outputs": [],
   "source": []
  },
  {
   "cell_type": "code",
   "execution_count": null,
   "metadata": {},
   "outputs": [],
   "source": []
  }
 ],
 "metadata": {
  "kernelspec": {
   "display_name": "Python 3",
   "language": "python",
   "name": "python3"
  },
  "language_info": {
   "codemirror_mode": {
    "name": "ipython",
    "version": 3
   },
   "file_extension": ".py",
   "mimetype": "text/x-python",
   "name": "python",
   "nbconvert_exporter": "python",
   "pygments_lexer": "ipython3",
   "version": "3.7.9"
  }
 },
 "nbformat": 4,
 "nbformat_minor": 4
}
